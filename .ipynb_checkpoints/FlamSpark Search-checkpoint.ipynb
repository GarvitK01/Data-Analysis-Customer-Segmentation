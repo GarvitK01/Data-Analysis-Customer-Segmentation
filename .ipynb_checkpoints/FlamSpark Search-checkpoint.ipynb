{
 "cells": [
  {
   "cell_type": "code",
   "execution_count": 265,
   "id": "6945283a",
   "metadata": {},
   "outputs": [],
   "source": [
    "import numpy as np\n",
    "import matplotlib.pyplot as plt\n",
    "import seaborn as sns\n",
    "import pandas as pd\n",
    "import os\n",
    "import sklearn\n",
    "import gensim"
   ]
  },
  {
   "cell_type": "code",
   "execution_count": 2,
   "id": "c842e7b3",
   "metadata": {},
   "outputs": [
    {
     "name": "stderr",
     "output_type": "stream",
     "text": [
      "/home/garvit/miniconda2/envs/amazon/lib/python3.9/site-packages/IPython/core/interactiveshell.py:3441: DtypeWarning: Columns (3) have mixed types.Specify dtype option on import or set low_memory=False.\n",
      "  exec(code_obj, self.user_global_ns, self.user_ns)\n"
     ]
    }
   ],
   "source": [
    "books = pd.read_csv(\"./Books.csv\")"
   ]
  },
  {
   "cell_type": "code",
   "execution_count": 3,
   "id": "96b64673",
   "metadata": {},
   "outputs": [
    {
     "data": {
      "text/html": [
       "<div>\n",
       "<style scoped>\n",
       "    .dataframe tbody tr th:only-of-type {\n",
       "        vertical-align: middle;\n",
       "    }\n",
       "\n",
       "    .dataframe tbody tr th {\n",
       "        vertical-align: top;\n",
       "    }\n",
       "\n",
       "    .dataframe thead th {\n",
       "        text-align: right;\n",
       "    }\n",
       "</style>\n",
       "<table border=\"1\" class=\"dataframe\">\n",
       "  <thead>\n",
       "    <tr style=\"text-align: right;\">\n",
       "      <th></th>\n",
       "      <th>ISBN</th>\n",
       "      <th>Book-Title</th>\n",
       "      <th>Book-Author</th>\n",
       "      <th>Year-Of-Publication</th>\n",
       "      <th>Publisher</th>\n",
       "      <th>Image-URL-S</th>\n",
       "      <th>Image-URL-M</th>\n",
       "      <th>Image-URL-L</th>\n",
       "    </tr>\n",
       "  </thead>\n",
       "  <tbody>\n",
       "    <tr>\n",
       "      <th>0</th>\n",
       "      <td>0195153448</td>\n",
       "      <td>Classical Mythology</td>\n",
       "      <td>Mark P. O. Morford</td>\n",
       "      <td>2002</td>\n",
       "      <td>Oxford University Press</td>\n",
       "      <td>http://images.amazon.com/images/P/0195153448.0...</td>\n",
       "      <td>http://images.amazon.com/images/P/0195153448.0...</td>\n",
       "      <td>http://images.amazon.com/images/P/0195153448.0...</td>\n",
       "    </tr>\n",
       "    <tr>\n",
       "      <th>1</th>\n",
       "      <td>0002005018</td>\n",
       "      <td>Clara Callan</td>\n",
       "      <td>Richard Bruce Wright</td>\n",
       "      <td>2001</td>\n",
       "      <td>HarperFlamingo Canada</td>\n",
       "      <td>http://images.amazon.com/images/P/0002005018.0...</td>\n",
       "      <td>http://images.amazon.com/images/P/0002005018.0...</td>\n",
       "      <td>http://images.amazon.com/images/P/0002005018.0...</td>\n",
       "    </tr>\n",
       "    <tr>\n",
       "      <th>2</th>\n",
       "      <td>0060973129</td>\n",
       "      <td>Decision in Normandy</td>\n",
       "      <td>Carlo D'Este</td>\n",
       "      <td>1991</td>\n",
       "      <td>HarperPerennial</td>\n",
       "      <td>http://images.amazon.com/images/P/0060973129.0...</td>\n",
       "      <td>http://images.amazon.com/images/P/0060973129.0...</td>\n",
       "      <td>http://images.amazon.com/images/P/0060973129.0...</td>\n",
       "    </tr>\n",
       "    <tr>\n",
       "      <th>3</th>\n",
       "      <td>0374157065</td>\n",
       "      <td>Flu: The Story of the Great Influenza Pandemic...</td>\n",
       "      <td>Gina Bari Kolata</td>\n",
       "      <td>1999</td>\n",
       "      <td>Farrar Straus Giroux</td>\n",
       "      <td>http://images.amazon.com/images/P/0374157065.0...</td>\n",
       "      <td>http://images.amazon.com/images/P/0374157065.0...</td>\n",
       "      <td>http://images.amazon.com/images/P/0374157065.0...</td>\n",
       "    </tr>\n",
       "    <tr>\n",
       "      <th>4</th>\n",
       "      <td>0393045218</td>\n",
       "      <td>The Mummies of Urumchi</td>\n",
       "      <td>E. J. W. Barber</td>\n",
       "      <td>1999</td>\n",
       "      <td>W. W. Norton &amp;amp; Company</td>\n",
       "      <td>http://images.amazon.com/images/P/0393045218.0...</td>\n",
       "      <td>http://images.amazon.com/images/P/0393045218.0...</td>\n",
       "      <td>http://images.amazon.com/images/P/0393045218.0...</td>\n",
       "    </tr>\n",
       "    <tr>\n",
       "      <th>...</th>\n",
       "      <td>...</td>\n",
       "      <td>...</td>\n",
       "      <td>...</td>\n",
       "      <td>...</td>\n",
       "      <td>...</td>\n",
       "      <td>...</td>\n",
       "      <td>...</td>\n",
       "      <td>...</td>\n",
       "    </tr>\n",
       "    <tr>\n",
       "      <th>271355</th>\n",
       "      <td>0440400988</td>\n",
       "      <td>There's a Bat in Bunk Five</td>\n",
       "      <td>Paula Danziger</td>\n",
       "      <td>1988</td>\n",
       "      <td>Random House Childrens Pub (Mm)</td>\n",
       "      <td>http://images.amazon.com/images/P/0440400988.0...</td>\n",
       "      <td>http://images.amazon.com/images/P/0440400988.0...</td>\n",
       "      <td>http://images.amazon.com/images/P/0440400988.0...</td>\n",
       "    </tr>\n",
       "    <tr>\n",
       "      <th>271356</th>\n",
       "      <td>0525447644</td>\n",
       "      <td>From One to One Hundred</td>\n",
       "      <td>Teri Sloat</td>\n",
       "      <td>1991</td>\n",
       "      <td>Dutton Books</td>\n",
       "      <td>http://images.amazon.com/images/P/0525447644.0...</td>\n",
       "      <td>http://images.amazon.com/images/P/0525447644.0...</td>\n",
       "      <td>http://images.amazon.com/images/P/0525447644.0...</td>\n",
       "    </tr>\n",
       "    <tr>\n",
       "      <th>271357</th>\n",
       "      <td>006008667X</td>\n",
       "      <td>Lily Dale : The True Story of the Town that Ta...</td>\n",
       "      <td>Christine Wicker</td>\n",
       "      <td>2004</td>\n",
       "      <td>HarperSanFrancisco</td>\n",
       "      <td>http://images.amazon.com/images/P/006008667X.0...</td>\n",
       "      <td>http://images.amazon.com/images/P/006008667X.0...</td>\n",
       "      <td>http://images.amazon.com/images/P/006008667X.0...</td>\n",
       "    </tr>\n",
       "    <tr>\n",
       "      <th>271358</th>\n",
       "      <td>0192126040</td>\n",
       "      <td>Republic (World's Classics)</td>\n",
       "      <td>Plato</td>\n",
       "      <td>1996</td>\n",
       "      <td>Oxford University Press</td>\n",
       "      <td>http://images.amazon.com/images/P/0192126040.0...</td>\n",
       "      <td>http://images.amazon.com/images/P/0192126040.0...</td>\n",
       "      <td>http://images.amazon.com/images/P/0192126040.0...</td>\n",
       "    </tr>\n",
       "    <tr>\n",
       "      <th>271359</th>\n",
       "      <td>0767409752</td>\n",
       "      <td>A Guided Tour of Rene Descartes' Meditations o...</td>\n",
       "      <td>Christopher  Biffle</td>\n",
       "      <td>2000</td>\n",
       "      <td>McGraw-Hill Humanities/Social Sciences/Languages</td>\n",
       "      <td>http://images.amazon.com/images/P/0767409752.0...</td>\n",
       "      <td>http://images.amazon.com/images/P/0767409752.0...</td>\n",
       "      <td>http://images.amazon.com/images/P/0767409752.0...</td>\n",
       "    </tr>\n",
       "  </tbody>\n",
       "</table>\n",
       "<p>271360 rows × 8 columns</p>\n",
       "</div>"
      ],
      "text/plain": [
       "              ISBN                                         Book-Title  \\\n",
       "0       0195153448                                Classical Mythology   \n",
       "1       0002005018                                       Clara Callan   \n",
       "2       0060973129                               Decision in Normandy   \n",
       "3       0374157065  Flu: The Story of the Great Influenza Pandemic...   \n",
       "4       0393045218                             The Mummies of Urumchi   \n",
       "...            ...                                                ...   \n",
       "271355  0440400988                         There's a Bat in Bunk Five   \n",
       "271356  0525447644                            From One to One Hundred   \n",
       "271357  006008667X  Lily Dale : The True Story of the Town that Ta...   \n",
       "271358  0192126040                        Republic (World's Classics)   \n",
       "271359  0767409752  A Guided Tour of Rene Descartes' Meditations o...   \n",
       "\n",
       "                 Book-Author Year-Of-Publication  \\\n",
       "0         Mark P. O. Morford                2002   \n",
       "1       Richard Bruce Wright                2001   \n",
       "2               Carlo D'Este                1991   \n",
       "3           Gina Bari Kolata                1999   \n",
       "4            E. J. W. Barber                1999   \n",
       "...                      ...                 ...   \n",
       "271355        Paula Danziger                1988   \n",
       "271356            Teri Sloat                1991   \n",
       "271357      Christine Wicker                2004   \n",
       "271358                 Plato                1996   \n",
       "271359   Christopher  Biffle                2000   \n",
       "\n",
       "                                               Publisher  \\\n",
       "0                                Oxford University Press   \n",
       "1                                  HarperFlamingo Canada   \n",
       "2                                        HarperPerennial   \n",
       "3                                   Farrar Straus Giroux   \n",
       "4                             W. W. Norton &amp; Company   \n",
       "...                                                  ...   \n",
       "271355                   Random House Childrens Pub (Mm)   \n",
       "271356                                      Dutton Books   \n",
       "271357                                HarperSanFrancisco   \n",
       "271358                           Oxford University Press   \n",
       "271359  McGraw-Hill Humanities/Social Sciences/Languages   \n",
       "\n",
       "                                              Image-URL-S  \\\n",
       "0       http://images.amazon.com/images/P/0195153448.0...   \n",
       "1       http://images.amazon.com/images/P/0002005018.0...   \n",
       "2       http://images.amazon.com/images/P/0060973129.0...   \n",
       "3       http://images.amazon.com/images/P/0374157065.0...   \n",
       "4       http://images.amazon.com/images/P/0393045218.0...   \n",
       "...                                                   ...   \n",
       "271355  http://images.amazon.com/images/P/0440400988.0...   \n",
       "271356  http://images.amazon.com/images/P/0525447644.0...   \n",
       "271357  http://images.amazon.com/images/P/006008667X.0...   \n",
       "271358  http://images.amazon.com/images/P/0192126040.0...   \n",
       "271359  http://images.amazon.com/images/P/0767409752.0...   \n",
       "\n",
       "                                              Image-URL-M  \\\n",
       "0       http://images.amazon.com/images/P/0195153448.0...   \n",
       "1       http://images.amazon.com/images/P/0002005018.0...   \n",
       "2       http://images.amazon.com/images/P/0060973129.0...   \n",
       "3       http://images.amazon.com/images/P/0374157065.0...   \n",
       "4       http://images.amazon.com/images/P/0393045218.0...   \n",
       "...                                                   ...   \n",
       "271355  http://images.amazon.com/images/P/0440400988.0...   \n",
       "271356  http://images.amazon.com/images/P/0525447644.0...   \n",
       "271357  http://images.amazon.com/images/P/006008667X.0...   \n",
       "271358  http://images.amazon.com/images/P/0192126040.0...   \n",
       "271359  http://images.amazon.com/images/P/0767409752.0...   \n",
       "\n",
       "                                              Image-URL-L  \n",
       "0       http://images.amazon.com/images/P/0195153448.0...  \n",
       "1       http://images.amazon.com/images/P/0002005018.0...  \n",
       "2       http://images.amazon.com/images/P/0060973129.0...  \n",
       "3       http://images.amazon.com/images/P/0374157065.0...  \n",
       "4       http://images.amazon.com/images/P/0393045218.0...  \n",
       "...                                                   ...  \n",
       "271355  http://images.amazon.com/images/P/0440400988.0...  \n",
       "271356  http://images.amazon.com/images/P/0525447644.0...  \n",
       "271357  http://images.amazon.com/images/P/006008667X.0...  \n",
       "271358  http://images.amazon.com/images/P/0192126040.0...  \n",
       "271359  http://images.amazon.com/images/P/0767409752.0...  \n",
       "\n",
       "[271360 rows x 8 columns]"
      ]
     },
     "execution_count": 3,
     "metadata": {},
     "output_type": "execute_result"
    }
   ],
   "source": [
    "books"
   ]
  },
  {
   "cell_type": "code",
   "execution_count": 16,
   "id": "e2c687fc",
   "metadata": {},
   "outputs": [],
   "source": [
    "ratings = pd.read_csv(\"./Ratings.csv\")"
   ]
  },
  {
   "cell_type": "code",
   "execution_count": 24,
   "id": "7f247c62",
   "metadata": {},
   "outputs": [
    {
     "data": {
      "text/plain": [
       "0           0\n",
       "1           5\n",
       "2           0\n",
       "3           3\n",
       "4           6\n",
       "           ..\n",
       "1149775     9\n",
       "1149776     0\n",
       "1149777    10\n",
       "1149778    10\n",
       "1149779     8\n",
       "Name: Book-Rating, Length: 1149780, dtype: int64"
      ]
     },
     "execution_count": 24,
     "metadata": {},
     "output_type": "execute_result"
    }
   ],
   "source": [
    "ratings[\"Book-Rating\"]"
   ]
  },
  {
   "cell_type": "code",
   "execution_count": 11,
   "id": "252d0323",
   "metadata": {},
   "outputs": [],
   "source": [
    "users = pd.read_csv(\"./Users.csv\")"
   ]
  },
  {
   "cell_type": "code",
   "execution_count": 12,
   "id": "f807dd7c",
   "metadata": {},
   "outputs": [
    {
     "data": {
      "text/html": [
       "<div>\n",
       "<style scoped>\n",
       "    .dataframe tbody tr th:only-of-type {\n",
       "        vertical-align: middle;\n",
       "    }\n",
       "\n",
       "    .dataframe tbody tr th {\n",
       "        vertical-align: top;\n",
       "    }\n",
       "\n",
       "    .dataframe thead th {\n",
       "        text-align: right;\n",
       "    }\n",
       "</style>\n",
       "<table border=\"1\" class=\"dataframe\">\n",
       "  <thead>\n",
       "    <tr style=\"text-align: right;\">\n",
       "      <th></th>\n",
       "      <th>User-ID</th>\n",
       "      <th>Location</th>\n",
       "      <th>Age</th>\n",
       "    </tr>\n",
       "  </thead>\n",
       "  <tbody>\n",
       "    <tr>\n",
       "      <th>0</th>\n",
       "      <td>1</td>\n",
       "      <td>nyc, new york, usa</td>\n",
       "      <td>NaN</td>\n",
       "    </tr>\n",
       "    <tr>\n",
       "      <th>1</th>\n",
       "      <td>2</td>\n",
       "      <td>stockton, california, usa</td>\n",
       "      <td>18.0</td>\n",
       "    </tr>\n",
       "    <tr>\n",
       "      <th>2</th>\n",
       "      <td>3</td>\n",
       "      <td>moscow, yukon territory, russia</td>\n",
       "      <td>NaN</td>\n",
       "    </tr>\n",
       "    <tr>\n",
       "      <th>3</th>\n",
       "      <td>4</td>\n",
       "      <td>porto, v.n.gaia, portugal</td>\n",
       "      <td>17.0</td>\n",
       "    </tr>\n",
       "    <tr>\n",
       "      <th>4</th>\n",
       "      <td>5</td>\n",
       "      <td>farnborough, hants, united kingdom</td>\n",
       "      <td>NaN</td>\n",
       "    </tr>\n",
       "    <tr>\n",
       "      <th>...</th>\n",
       "      <td>...</td>\n",
       "      <td>...</td>\n",
       "      <td>...</td>\n",
       "    </tr>\n",
       "    <tr>\n",
       "      <th>278853</th>\n",
       "      <td>278854</td>\n",
       "      <td>portland, oregon, usa</td>\n",
       "      <td>NaN</td>\n",
       "    </tr>\n",
       "    <tr>\n",
       "      <th>278854</th>\n",
       "      <td>278855</td>\n",
       "      <td>tacoma, washington, united kingdom</td>\n",
       "      <td>50.0</td>\n",
       "    </tr>\n",
       "    <tr>\n",
       "      <th>278855</th>\n",
       "      <td>278856</td>\n",
       "      <td>brampton, ontario, canada</td>\n",
       "      <td>NaN</td>\n",
       "    </tr>\n",
       "    <tr>\n",
       "      <th>278856</th>\n",
       "      <td>278857</td>\n",
       "      <td>knoxville, tennessee, usa</td>\n",
       "      <td>NaN</td>\n",
       "    </tr>\n",
       "    <tr>\n",
       "      <th>278857</th>\n",
       "      <td>278858</td>\n",
       "      <td>dublin, n/a, ireland</td>\n",
       "      <td>NaN</td>\n",
       "    </tr>\n",
       "  </tbody>\n",
       "</table>\n",
       "<p>278858 rows × 3 columns</p>\n",
       "</div>"
      ],
      "text/plain": [
       "        User-ID                            Location   Age\n",
       "0             1                  nyc, new york, usa   NaN\n",
       "1             2           stockton, california, usa  18.0\n",
       "2             3     moscow, yukon territory, russia   NaN\n",
       "3             4           porto, v.n.gaia, portugal  17.0\n",
       "4             5  farnborough, hants, united kingdom   NaN\n",
       "...         ...                                 ...   ...\n",
       "278853   278854               portland, oregon, usa   NaN\n",
       "278854   278855  tacoma, washington, united kingdom  50.0\n",
       "278855   278856           brampton, ontario, canada   NaN\n",
       "278856   278857           knoxville, tennessee, usa   NaN\n",
       "278857   278858                dublin, n/a, ireland   NaN\n",
       "\n",
       "[278858 rows x 3 columns]"
      ]
     },
     "execution_count": 12,
     "metadata": {},
     "output_type": "execute_result"
    }
   ],
   "source": [
    "users"
   ]
  },
  {
   "cell_type": "code",
   "execution_count": 13,
   "id": "52ddcb96",
   "metadata": {},
   "outputs": [
    {
     "data": {
      "text/plain": [
       "Harlequin                  7535\n",
       "Silhouette                 4220\n",
       "Pocket                     3905\n",
       "Ballantine Books           3783\n",
       "Bantam Books               3646\n",
       "                           ... \n",
       "Hannover House                1\n",
       "Amber Quill Press, LLC.       1\n",
       "Lunchbox Press                1\n",
       "Ugly Town                     1\n",
       "Connaught                     1\n",
       "Name: Publisher, Length: 16807, dtype: int64"
      ]
     },
     "execution_count": 13,
     "metadata": {},
     "output_type": "execute_result"
    }
   ],
   "source": [
    "books[\"Publisher\"].value_counts()"
   ]
  },
  {
   "cell_type": "code",
   "execution_count": 23,
   "id": "353ea38f",
   "metadata": {},
   "outputs": [
    {
     "data": {
      "text/plain": [
       "0          276725\n",
       "1          276726\n",
       "2          276727\n",
       "3          276729\n",
       "4          276729\n",
       "            ...  \n",
       "1149775    276704\n",
       "1149776    276706\n",
       "1149777    276709\n",
       "1149778    276721\n",
       "1149779    276723\n",
       "Name: User-ID, Length: 1149780, dtype: int64"
      ]
     },
     "execution_count": 23,
     "metadata": {},
     "output_type": "execute_result"
    }
   ],
   "source": [
    "ratings[\"User-ID\"]"
   ]
  },
  {
   "cell_type": "code",
   "execution_count": 15,
   "id": "dae41b2c",
   "metadata": {},
   "outputs": [
    {
     "data": {
      "text/html": [
       "<div>\n",
       "<style scoped>\n",
       "    .dataframe tbody tr th:only-of-type {\n",
       "        vertical-align: middle;\n",
       "    }\n",
       "\n",
       "    .dataframe tbody tr th {\n",
       "        vertical-align: top;\n",
       "    }\n",
       "\n",
       "    .dataframe thead th {\n",
       "        text-align: right;\n",
       "    }\n",
       "</style>\n",
       "<table border=\"1\" class=\"dataframe\">\n",
       "  <thead>\n",
       "    <tr style=\"text-align: right;\">\n",
       "      <th></th>\n",
       "      <th>User-ID</th>\n",
       "      <th>ISBN</th>\n",
       "      <th>Book-Rating</th>\n",
       "    </tr>\n",
       "  </thead>\n",
       "  <tbody>\n",
       "    <tr>\n",
       "      <th>0</th>\n",
       "      <td>276725</td>\n",
       "      <td>034545104X</td>\n",
       "      <td>0</td>\n",
       "    </tr>\n",
       "    <tr>\n",
       "      <th>1</th>\n",
       "      <td>276725</td>\n",
       "      <td>0155061224</td>\n",
       "      <td>5</td>\n",
       "    </tr>\n",
       "    <tr>\n",
       "      <th>2</th>\n",
       "      <td>276725</td>\n",
       "      <td>0446520802</td>\n",
       "      <td>0</td>\n",
       "    </tr>\n",
       "    <tr>\n",
       "      <th>3</th>\n",
       "      <td>276725</td>\n",
       "      <td>052165615X</td>\n",
       "      <td>3</td>\n",
       "    </tr>\n",
       "    <tr>\n",
       "      <th>4</th>\n",
       "      <td>276725</td>\n",
       "      <td>0521795028</td>\n",
       "      <td>6</td>\n",
       "    </tr>\n",
       "    <tr>\n",
       "      <th>...</th>\n",
       "      <td>...</td>\n",
       "      <td>...</td>\n",
       "      <td>...</td>\n",
       "    </tr>\n",
       "    <tr>\n",
       "      <th>1149775</th>\n",
       "      <td>276725</td>\n",
       "      <td>1563526298</td>\n",
       "      <td>9</td>\n",
       "    </tr>\n",
       "    <tr>\n",
       "      <th>1149776</th>\n",
       "      <td>276725</td>\n",
       "      <td>0679447156</td>\n",
       "      <td>0</td>\n",
       "    </tr>\n",
       "    <tr>\n",
       "      <th>1149777</th>\n",
       "      <td>276725</td>\n",
       "      <td>0515107662</td>\n",
       "      <td>10</td>\n",
       "    </tr>\n",
       "    <tr>\n",
       "      <th>1149778</th>\n",
       "      <td>276725</td>\n",
       "      <td>0590442449</td>\n",
       "      <td>10</td>\n",
       "    </tr>\n",
       "    <tr>\n",
       "      <th>1149779</th>\n",
       "      <td>276725</td>\n",
       "      <td>05162443314</td>\n",
       "      <td>8</td>\n",
       "    </tr>\n",
       "  </tbody>\n",
       "</table>\n",
       "<p>1149780 rows × 3 columns</p>\n",
       "</div>"
      ],
      "text/plain": [
       "        User-ID         ISBN  Book-Rating\n",
       "0        276725   034545104X            0\n",
       "1        276725   0155061224            5\n",
       "2        276725   0446520802            0\n",
       "3        276725   052165615X            3\n",
       "4        276725   0521795028            6\n",
       "...         ...          ...          ...\n",
       "1149775  276725   1563526298            9\n",
       "1149776  276725   0679447156            0\n",
       "1149777  276725   0515107662           10\n",
       "1149778  276725   0590442449           10\n",
       "1149779  276725  05162443314            8\n",
       "\n",
       "[1149780 rows x 3 columns]"
      ]
     },
     "execution_count": 15,
     "metadata": {},
     "output_type": "execute_result"
    }
   ],
   "source": [
    "ratings"
   ]
  },
  {
   "cell_type": "code",
   "execution_count": 28,
   "id": "32611c82",
   "metadata": {},
   "outputs": [
    {
     "data": {
      "text/plain": [
       "716109"
      ]
     },
     "execution_count": 28,
     "metadata": {},
     "output_type": "execute_result"
    }
   ],
   "source": [
    "len(ratings[ratings[\"Book-Rating\"] == 0])"
   ]
  },
  {
   "cell_type": "code",
   "execution_count": 30,
   "id": "c589e257",
   "metadata": {},
   "outputs": [
    {
     "data": {
      "text/plain": [
       "433671"
      ]
     },
     "execution_count": 30,
     "metadata": {},
     "output_type": "execute_result"
    }
   ],
   "source": [
    "len(ratings) - len(ratings[ratings[\"Book-Rating\"] == 0])"
   ]
  },
  {
   "cell_type": "code",
   "execution_count": 32,
   "id": "530974f4",
   "metadata": {},
   "outputs": [
    {
     "data": {
      "text/plain": [
       "'http://images.amazon.com/images/P/0195153448.01.LZZZZZZZ.jpg'"
      ]
     },
     "execution_count": 32,
     "metadata": {},
     "output_type": "execute_result"
    }
   ],
   "source": [
    "books[\"Image-URL-L\"][0]"
   ]
  },
  {
   "cell_type": "code",
   "execution_count": 38,
   "id": "6f7a146e",
   "metadata": {},
   "outputs": [],
   "source": [
    "def clean_text(review_text):\n",
    "    \n",
    "    return re.sub(r'[^a-zA-Z0-9 ]','',review_text)"
   ]
  },
  {
   "cell_type": "code",
   "execution_count": 56,
   "id": "4b385e38",
   "metadata": {},
   "outputs": [],
   "source": [
    "def clean_dataset():\n",
    "    \n",
    "    books[\"Book-Title\"] = books[\"Book-Title\"].apply(clean_text)\n",
    "#     books[\"Book-Author\"] = books[\"Book-Author\"].apply(clean_text)\n",
    "    books[\"Combined\"] = books[\"Book-Author\"] + \" \" + books[\"Book-Title\"]"
   ]
  },
  {
   "cell_type": "code",
   "execution_count": 75,
   "id": "216e025f",
   "metadata": {},
   "outputs": [],
   "source": [
    "clean_dataset()"
   ]
  },
  {
   "cell_type": "code",
   "execution_count": 189,
   "id": "cc862a52",
   "metadata": {},
   "outputs": [],
   "source": [
    "books_clean = books.drop(labels = [\"Book-Title\", \"Book-Author\"], axis = 1)"
   ]
  },
  {
   "cell_type": "code",
   "execution_count": 190,
   "id": "c20c1a56",
   "metadata": {},
   "outputs": [],
   "source": [
    "books_clean = books_clean.drop(labels = [\"Image-URL-S\", \"Image-URL-L\", \"Image-URL-M\"], axis = 1)"
   ]
  },
  {
   "cell_type": "code",
   "execution_count": 191,
   "id": "fe440a2a",
   "metadata": {},
   "outputs": [],
   "source": [
    "books_clean[\"Combined\"] = books_clean[\"Combined\"] + \" \" + books[\"Year-Of-Publication\"].apply(str) + \" \" + books[\"Publisher\"]"
   ]
  },
  {
   "cell_type": "code",
   "execution_count": 192,
   "id": "ae0d25da",
   "metadata": {},
   "outputs": [],
   "source": [
    "books_clean = books_clean.drop(labels = ['Publisher'], axis = 1)"
   ]
  },
  {
   "cell_type": "code",
   "execution_count": 193,
   "id": "ad41e3a0",
   "metadata": {},
   "outputs": [],
   "source": [
    "books_clean = books_clean.drop(labels = [\"Year-Of-Publication\"], axis = 1)"
   ]
  },
  {
   "cell_type": "code",
   "execution_count": 194,
   "id": "6e7ec86f",
   "metadata": {},
   "outputs": [],
   "source": [
    "books_clean = books_clean.dropna()"
   ]
  },
  {
   "cell_type": "code",
   "execution_count": 195,
   "id": "b8274d1d",
   "metadata": {},
   "outputs": [
    {
     "data": {
      "text/html": [
       "<div>\n",
       "<style scoped>\n",
       "    .dataframe tbody tr th:only-of-type {\n",
       "        vertical-align: middle;\n",
       "    }\n",
       "\n",
       "    .dataframe tbody tr th {\n",
       "        vertical-align: top;\n",
       "    }\n",
       "\n",
       "    .dataframe thead th {\n",
       "        text-align: right;\n",
       "    }\n",
       "</style>\n",
       "<table border=\"1\" class=\"dataframe\">\n",
       "  <thead>\n",
       "    <tr style=\"text-align: right;\">\n",
       "      <th></th>\n",
       "      <th>ISBN</th>\n",
       "      <th>Combined</th>\n",
       "    </tr>\n",
       "  </thead>\n",
       "  <tbody>\n",
       "    <tr>\n",
       "      <th>0</th>\n",
       "      <td>0195153448</td>\n",
       "      <td>Mark P. O. Morford Classical Mythology 2002 Ox...</td>\n",
       "    </tr>\n",
       "    <tr>\n",
       "      <th>1</th>\n",
       "      <td>0002005018</td>\n",
       "      <td>Richard Bruce Wright Clara Callan 2001 HarperF...</td>\n",
       "    </tr>\n",
       "    <tr>\n",
       "      <th>2</th>\n",
       "      <td>0060973129</td>\n",
       "      <td>Carlo D'Este Decision in Normandy 1991 HarperP...</td>\n",
       "    </tr>\n",
       "    <tr>\n",
       "      <th>3</th>\n",
       "      <td>0374157065</td>\n",
       "      <td>Gina Bari Kolata Flu The Story of the Great In...</td>\n",
       "    </tr>\n",
       "    <tr>\n",
       "      <th>4</th>\n",
       "      <td>0393045218</td>\n",
       "      <td>E. J. W. Barber The Mummies of Urumchi 1999 W....</td>\n",
       "    </tr>\n",
       "    <tr>\n",
       "      <th>...</th>\n",
       "      <td>...</td>\n",
       "      <td>...</td>\n",
       "    </tr>\n",
       "    <tr>\n",
       "      <th>271355</th>\n",
       "      <td>0440400988</td>\n",
       "      <td>Paula Danziger Theres a Bat in Bunk Five 1988 ...</td>\n",
       "    </tr>\n",
       "    <tr>\n",
       "      <th>271356</th>\n",
       "      <td>0525447644</td>\n",
       "      <td>Teri Sloat From One to One Hundred 1991 Dutton...</td>\n",
       "    </tr>\n",
       "    <tr>\n",
       "      <th>271357</th>\n",
       "      <td>006008667X</td>\n",
       "      <td>Christine Wicker Lily Dale  The True Story of ...</td>\n",
       "    </tr>\n",
       "    <tr>\n",
       "      <th>271358</th>\n",
       "      <td>0192126040</td>\n",
       "      <td>Plato Republic Worlds Classics 1996 Oxford Uni...</td>\n",
       "    </tr>\n",
       "    <tr>\n",
       "      <th>271359</th>\n",
       "      <td>0767409752</td>\n",
       "      <td>Christopher  Biffle A Guided Tour of Rene Desc...</td>\n",
       "    </tr>\n",
       "  </tbody>\n",
       "</table>\n",
       "<p>271357 rows × 2 columns</p>\n",
       "</div>"
      ],
      "text/plain": [
       "              ISBN                                           Combined\n",
       "0       0195153448  Mark P. O. Morford Classical Mythology 2002 Ox...\n",
       "1       0002005018  Richard Bruce Wright Clara Callan 2001 HarperF...\n",
       "2       0060973129  Carlo D'Este Decision in Normandy 1991 HarperP...\n",
       "3       0374157065  Gina Bari Kolata Flu The Story of the Great In...\n",
       "4       0393045218  E. J. W. Barber The Mummies of Urumchi 1999 W....\n",
       "...            ...                                                ...\n",
       "271355  0440400988  Paula Danziger Theres a Bat in Bunk Five 1988 ...\n",
       "271356  0525447644  Teri Sloat From One to One Hundred 1991 Dutton...\n",
       "271357  006008667X  Christine Wicker Lily Dale  The True Story of ...\n",
       "271358  0192126040  Plato Republic Worlds Classics 1996 Oxford Uni...\n",
       "271359  0767409752  Christopher  Biffle A Guided Tour of Rene Desc...\n",
       "\n",
       "[271357 rows x 2 columns]"
      ]
     },
     "execution_count": 195,
     "metadata": {},
     "output_type": "execute_result"
    }
   ],
   "source": [
    "books_clean"
   ]
  },
  {
   "cell_type": "code",
   "execution_count": 196,
   "id": "6805fe8b",
   "metadata": {},
   "outputs": [],
   "source": [
    "def read_corpus(fname, tokens_only=False):\n",
    "\n",
    "    for i, line in enumerate(fname):\n",
    "        tokens = gensim.utils.simple_preprocess(line)\n",
    "        if tokens_only:\n",
    "            yield tokens\n",
    "        else:\n",
    "            # For training data, add tags\n",
    "            yield gensim.models.doc2vec.TaggedDocument(tokens, [i])\n",
    "\n",
    "train_corpus = list(read_corpus(books_clean[\"Combined\"]))"
   ]
  },
  {
   "cell_type": "code",
   "execution_count": 197,
   "id": "3a6edbd1",
   "metadata": {},
   "outputs": [],
   "source": [
    "model = gensim.models.doc2vec.Doc2Vec(vector_size=10, min_count=1, epochs=15)"
   ]
  },
  {
   "cell_type": "code",
   "execution_count": 198,
   "id": "a6f6dd3b",
   "metadata": {},
   "outputs": [],
   "source": [
    "model.build_vocab(train_corpus)"
   ]
  },
  {
   "cell_type": "code",
   "execution_count": 199,
   "id": "535691d5",
   "metadata": {},
   "outputs": [],
   "source": [
    "model.train(train_corpus, total_examples=model.corpus_count, epochs=model.epochs)"
   ]
  },
  {
   "cell_type": "code",
   "execution_count": 200,
   "id": "998de4b9",
   "metadata": {},
   "outputs": [],
   "source": [
    "model.save(\"Trained.model\")"
   ]
  },
  {
   "cell_type": "code",
   "execution_count": 201,
   "id": "435612a7",
   "metadata": {},
   "outputs": [],
   "source": [
    "line = gensim.utils.simple_preprocess(books_clean[\"Combined\"][1])"
   ]
  },
  {
   "cell_type": "code",
   "execution_count": 202,
   "id": "90e47bff",
   "metadata": {},
   "outputs": [
    {
     "name": "stdout",
     "output_type": "stream",
     "text": [
      "[ 0.10821854  0.22429353  0.22499312 -0.05630039  0.00473043 -0.01538596\n",
      "  0.11153307 -0.01378286 -0.16502519 -0.08682953]\n"
     ]
    }
   ],
   "source": [
    "vector = model.infer_vector(line)\n",
    "print(vector)"
   ]
  },
  {
   "cell_type": "code",
   "execution_count": 203,
   "id": "4f1dcefa",
   "metadata": {},
   "outputs": [],
   "source": [
    "def make_data():\n",
    "\n",
    "    books_clean[\"Vector\"] = books_clean[\"Combined\"].apply(gensim.utils.simple_preprocess)"
   ]
  },
  {
   "cell_type": "code",
   "execution_count": 206,
   "id": "71365a36",
   "metadata": {},
   "outputs": [],
   "source": [
    "make_data()"
   ]
  },
  {
   "cell_type": "code",
   "execution_count": 208,
   "id": "945d32ec",
   "metadata": {},
   "outputs": [
    {
     "data": {
      "text/plain": [
       "array([ 0.0491791 ,  0.02854721,  0.42789352,  0.00510488,  0.3836304 ,\n",
       "       -0.27678704,  0.27934068,  0.22522035, -0.2933563 , -0.12217059],\n",
       "      dtype=float32)"
      ]
     },
     "execution_count": 208,
     "metadata": {},
     "output_type": "execute_result"
    }
   ],
   "source": [
    "model.infer_vector(books_clean[\"Vector\"][15])"
   ]
  },
  {
   "cell_type": "code",
   "execution_count": 215,
   "id": "34c3bf00",
   "metadata": {},
   "outputs": [],
   "source": [
    "def recommend_books(book, n):\n",
    "    \n",
    "    text = clean_text(book)\n",
    "    line = gensim.utils.simple_preprocess(text)\n",
    "    infer = model.infer_vector(line)\n",
    "    sims = model.dv.most_similar([infer], topn = n)\n",
    "    \n",
    "    for term in similar:\n",
    "        print(train_corpus[term[0]].words)\n",
    "    \n",
    "    "
   ]
  },
  {
   "cell_type": "code",
   "execution_count": 216,
   "id": "dbacd0bc",
   "metadata": {},
   "outputs": [],
   "source": [
    "books_clean.to_csv(\"Clean.csv\")"
   ]
  },
  {
   "cell_type": "code",
   "execution_count": 217,
   "id": "faea36db",
   "metadata": {},
   "outputs": [],
   "source": [
    "title = books[\"Book-Title\"][0]"
   ]
  },
  {
   "cell_type": "code",
   "execution_count": 218,
   "id": "e8408d9e",
   "metadata": {},
   "outputs": [
    {
     "name": "stdout",
     "output_type": "stream",
     "text": [
      "['jane', 'austen', 'mansfield', 'park', 'modern', 'library', 'classics', 'modern', 'library']\n",
      "['jessica', 'barcley', 'into', 'the', 'sunset', 'silhouette', 'special', 'edition', 'no', 'silhouette']\n",
      "['james', 'blish', 'jack', 'of', 'eagles', 'avon', 'books']\n",
      "['alexandre', 'dumas', 'louise', 'de', 'la', 'valliere', 'oxford', 'university', 'press']\n"
     ]
    }
   ],
   "source": [
    "recommend_books(\"Plato\", 15)"
   ]
  },
  {
   "cell_type": "code",
   "execution_count": 220,
   "id": "596e84e1",
   "metadata": {},
   "outputs": [
    {
     "name": "stdout",
     "output_type": "stream",
     "text": [
      "['jane', 'austen', 'mansfield', 'park', 'modern', 'library', 'classics', 'modern', 'library']\n",
      "['jessica', 'barcley', 'into', 'the', 'sunset', 'silhouette', 'special', 'edition', 'no', 'silhouette']\n",
      "['james', 'blish', 'jack', 'of', 'eagles', 'avon', 'books']\n",
      "['alexandre', 'dumas', 'louise', 'de', 'la', 'valliere', 'oxford', 'university', 'press']\n"
     ]
    }
   ],
   "source": [
    "text = clean_text(title)\n",
    "line = gensim.utils.simple_preprocess(text)\n",
    "infer = model.infer_vector(line)\n",
    "sims = model.dv.most_similar([infer], topn = 5)\n",
    "\n",
    "# for term in similar:\n",
    "#     print(train_corpus[term[0]].words)"
   ]
  },
  {
   "cell_type": "code",
   "execution_count": 221,
   "id": "b4ffbac0",
   "metadata": {},
   "outputs": [
    {
     "data": {
      "text/plain": [
       "[(223700, 0.9695423245429993),\n",
       " (33623, 0.96741783618927),\n",
       " (20614, 0.9668981432914734),\n",
       " (105720, 0.9660919904708862),\n",
       " (57231, 0.9657881855964661)]"
      ]
     },
     "execution_count": 221,
     "metadata": {},
     "output_type": "execute_result"
    }
   ],
   "source": [
    "sims"
   ]
  },
  {
   "cell_type": "code",
   "execution_count": 253,
   "id": "474e1f83",
   "metadata": {},
   "outputs": [],
   "source": [
    "rating_dict = dict.fromkeys(ratings[\"ISBN\"], 0)"
   ]
  },
  {
   "cell_type": "code",
   "execution_count": 254,
   "id": "f2c74740",
   "metadata": {},
   "outputs": [],
   "source": [
    "ISBN_counts = dict.fromkeys(ratings[\"ISBN\"], 0)"
   ]
  },
  {
   "cell_type": "code",
   "execution_count": 233,
   "id": "d2bf7252",
   "metadata": {},
   "outputs": [
    {
     "data": {
      "text/plain": [
       "User-ID  ISBN        Book-Rating\n",
       "276729   0521795028  6              1\n",
       "dtype: int64"
      ]
     },
     "execution_count": 233,
     "metadata": {},
     "output_type": "execute_result"
    }
   ],
   "source": [
    "ratings[ratings[\"ISBN\"] == \"0521795028\"].value_counts()"
   ]
  },
  {
   "cell_type": "code",
   "execution_count": 243,
   "id": "c0dd33e2",
   "metadata": {},
   "outputs": [
    {
     "data": {
      "text/html": [
       "<div>\n",
       "<style scoped>\n",
       "    .dataframe tbody tr th:only-of-type {\n",
       "        vertical-align: middle;\n",
       "    }\n",
       "\n",
       "    .dataframe tbody tr th {\n",
       "        vertical-align: top;\n",
       "    }\n",
       "\n",
       "    .dataframe thead th {\n",
       "        text-align: right;\n",
       "    }\n",
       "</style>\n",
       "<table border=\"1\" class=\"dataframe\">\n",
       "  <thead>\n",
       "    <tr style=\"text-align: right;\">\n",
       "      <th></th>\n",
       "      <th>User-ID</th>\n",
       "      <th>ISBN</th>\n",
       "      <th>Book-Rating</th>\n",
       "    </tr>\n",
       "  </thead>\n",
       "  <tbody>\n",
       "    <tr>\n",
       "      <th>0</th>\n",
       "      <td>276725</td>\n",
       "      <td>034545104X</td>\n",
       "      <td>0</td>\n",
       "    </tr>\n",
       "    <tr>\n",
       "      <th>1</th>\n",
       "      <td>276726</td>\n",
       "      <td>0155061224</td>\n",
       "      <td>5</td>\n",
       "    </tr>\n",
       "    <tr>\n",
       "      <th>2</th>\n",
       "      <td>276727</td>\n",
       "      <td>0446520802</td>\n",
       "      <td>0</td>\n",
       "    </tr>\n",
       "    <tr>\n",
       "      <th>3</th>\n",
       "      <td>276729</td>\n",
       "      <td>052165615X</td>\n",
       "      <td>3</td>\n",
       "    </tr>\n",
       "    <tr>\n",
       "      <th>4</th>\n",
       "      <td>276729</td>\n",
       "      <td>0521795028</td>\n",
       "      <td>6</td>\n",
       "    </tr>\n",
       "    <tr>\n",
       "      <th>...</th>\n",
       "      <td>...</td>\n",
       "      <td>...</td>\n",
       "      <td>...</td>\n",
       "    </tr>\n",
       "    <tr>\n",
       "      <th>1149775</th>\n",
       "      <td>276704</td>\n",
       "      <td>1563526298</td>\n",
       "      <td>9</td>\n",
       "    </tr>\n",
       "    <tr>\n",
       "      <th>1149776</th>\n",
       "      <td>276706</td>\n",
       "      <td>0679447156</td>\n",
       "      <td>0</td>\n",
       "    </tr>\n",
       "    <tr>\n",
       "      <th>1149777</th>\n",
       "      <td>276709</td>\n",
       "      <td>0515107662</td>\n",
       "      <td>10</td>\n",
       "    </tr>\n",
       "    <tr>\n",
       "      <th>1149778</th>\n",
       "      <td>276721</td>\n",
       "      <td>0590442449</td>\n",
       "      <td>10</td>\n",
       "    </tr>\n",
       "    <tr>\n",
       "      <th>1149779</th>\n",
       "      <td>276723</td>\n",
       "      <td>05162443314</td>\n",
       "      <td>8</td>\n",
       "    </tr>\n",
       "  </tbody>\n",
       "</table>\n",
       "<p>1149780 rows × 3 columns</p>\n",
       "</div>"
      ],
      "text/plain": [
       "         User-ID         ISBN  Book-Rating\n",
       "0         276725   034545104X            0\n",
       "1         276726   0155061224            5\n",
       "2         276727   0446520802            0\n",
       "3         276729   052165615X            3\n",
       "4         276729   0521795028            6\n",
       "...          ...          ...          ...\n",
       "1149775   276704   1563526298            9\n",
       "1149776   276706   0679447156            0\n",
       "1149777   276709   0515107662           10\n",
       "1149778   276721   0590442449           10\n",
       "1149779   276723  05162443314            8\n",
       "\n",
       "[1149780 rows x 3 columns]"
      ]
     },
     "execution_count": 243,
     "metadata": {},
     "output_type": "execute_result"
    }
   ],
   "source": [
    "ratings"
   ]
  },
  {
   "cell_type": "code",
   "execution_count": 260,
   "id": "62125098",
   "metadata": {},
   "outputs": [],
   "source": [
    "for index, record in ratings.iterrows():\n",
    "    \n",
    "    rating_dict[record[\"ISBN\"]] += record[\"Book-Rating\"]\n",
    "    if record[\"Book-Rating\"] >= 1:\n",
    "        ISBN_counts[record[\"ISBN\"]] += 1\n",
    "    "
   ]
  },
  {
   "cell_type": "code",
   "execution_count": 261,
   "id": "9076dd56",
   "metadata": {},
   "outputs": [],
   "source": [
    "for isbn in rating_dict.keys():\n",
    "    rating_dict[isbn] /= ISBN_counts[isbn]"
   ]
  },
  {
   "cell_type": "code",
   "execution_count": 266,
   "id": "de5c35a8",
   "metadata": {},
   "outputs": [
    {
     "data": {
      "text/html": [
       "<div>\n",
       "<style scoped>\n",
       "    .dataframe tbody tr th:only-of-type {\n",
       "        vertical-align: middle;\n",
       "    }\n",
       "\n",
       "    .dataframe tbody tr th {\n",
       "        vertical-align: top;\n",
       "    }\n",
       "\n",
       "    .dataframe thead th {\n",
       "        text-align: right;\n",
       "    }\n",
       "</style>\n",
       "<table border=\"1\" class=\"dataframe\">\n",
       "  <thead>\n",
       "    <tr style=\"text-align: right;\">\n",
       "      <th></th>\n",
       "      <th>ISBN</th>\n",
       "      <th>Combined</th>\n",
       "      <th>Vector</th>\n",
       "    </tr>\n",
       "  </thead>\n",
       "  <tbody>\n",
       "    <tr>\n",
       "      <th>0</th>\n",
       "      <td>0195153448</td>\n",
       "      <td>Mark P. O. Morford Classical Mythology 2002 Ox...</td>\n",
       "      <td>[mark, morford, classical, mythology, oxford, ...</td>\n",
       "    </tr>\n",
       "    <tr>\n",
       "      <th>1</th>\n",
       "      <td>0002005018</td>\n",
       "      <td>Richard Bruce Wright Clara Callan 2001 HarperF...</td>\n",
       "      <td>[richard, bruce, wright, clara, callan, harper...</td>\n",
       "    </tr>\n",
       "    <tr>\n",
       "      <th>2</th>\n",
       "      <td>0060973129</td>\n",
       "      <td>Carlo D'Este Decision in Normandy 1991 HarperP...</td>\n",
       "      <td>[carlo, este, decision, in, normandy, harperpe...</td>\n",
       "    </tr>\n",
       "    <tr>\n",
       "      <th>3</th>\n",
       "      <td>0374157065</td>\n",
       "      <td>Gina Bari Kolata Flu The Story of the Great In...</td>\n",
       "      <td>[gina, bari, kolata, flu, the, story, of, the,...</td>\n",
       "    </tr>\n",
       "    <tr>\n",
       "      <th>4</th>\n",
       "      <td>0393045218</td>\n",
       "      <td>E. J. W. Barber The Mummies of Urumchi 1999 W....</td>\n",
       "      <td>[barber, the, mummies, of, urumchi, norton, am...</td>\n",
       "    </tr>\n",
       "    <tr>\n",
       "      <th>...</th>\n",
       "      <td>...</td>\n",
       "      <td>...</td>\n",
       "      <td>...</td>\n",
       "    </tr>\n",
       "    <tr>\n",
       "      <th>271355</th>\n",
       "      <td>0440400988</td>\n",
       "      <td>Paula Danziger Theres a Bat in Bunk Five 1988 ...</td>\n",
       "      <td>[paula, danziger, theres, bat, in, bunk, five,...</td>\n",
       "    </tr>\n",
       "    <tr>\n",
       "      <th>271356</th>\n",
       "      <td>0525447644</td>\n",
       "      <td>Teri Sloat From One to One Hundred 1991 Dutton...</td>\n",
       "      <td>[teri, sloat, from, one, to, one, hundred, dut...</td>\n",
       "    </tr>\n",
       "    <tr>\n",
       "      <th>271357</th>\n",
       "      <td>006008667X</td>\n",
       "      <td>Christine Wicker Lily Dale  The True Story of ...</td>\n",
       "      <td>[christine, wicker, lily, dale, the, true, sto...</td>\n",
       "    </tr>\n",
       "    <tr>\n",
       "      <th>271358</th>\n",
       "      <td>0192126040</td>\n",
       "      <td>Plato Republic Worlds Classics 1996 Oxford Uni...</td>\n",
       "      <td>[plato, republic, worlds, classics, oxford, un...</td>\n",
       "    </tr>\n",
       "    <tr>\n",
       "      <th>271359</th>\n",
       "      <td>0767409752</td>\n",
       "      <td>Christopher  Biffle A Guided Tour of Rene Desc...</td>\n",
       "      <td>[christopher, biffle, guided, tour, of, rene, ...</td>\n",
       "    </tr>\n",
       "  </tbody>\n",
       "</table>\n",
       "<p>271357 rows × 3 columns</p>\n",
       "</div>"
      ],
      "text/plain": [
       "              ISBN                                           Combined  \\\n",
       "0       0195153448  Mark P. O. Morford Classical Mythology 2002 Ox...   \n",
       "1       0002005018  Richard Bruce Wright Clara Callan 2001 HarperF...   \n",
       "2       0060973129  Carlo D'Este Decision in Normandy 1991 HarperP...   \n",
       "3       0374157065  Gina Bari Kolata Flu The Story of the Great In...   \n",
       "4       0393045218  E. J. W. Barber The Mummies of Urumchi 1999 W....   \n",
       "...            ...                                                ...   \n",
       "271355  0440400988  Paula Danziger Theres a Bat in Bunk Five 1988 ...   \n",
       "271356  0525447644  Teri Sloat From One to One Hundred 1991 Dutton...   \n",
       "271357  006008667X  Christine Wicker Lily Dale  The True Story of ...   \n",
       "271358  0192126040  Plato Republic Worlds Classics 1996 Oxford Uni...   \n",
       "271359  0767409752  Christopher  Biffle A Guided Tour of Rene Desc...   \n",
       "\n",
       "                                                   Vector  \n",
       "0       [mark, morford, classical, mythology, oxford, ...  \n",
       "1       [richard, bruce, wright, clara, callan, harper...  \n",
       "2       [carlo, este, decision, in, normandy, harperpe...  \n",
       "3       [gina, bari, kolata, flu, the, story, of, the,...  \n",
       "4       [barber, the, mummies, of, urumchi, norton, am...  \n",
       "...                                                   ...  \n",
       "271355  [paula, danziger, theres, bat, in, bunk, five,...  \n",
       "271356  [teri, sloat, from, one, to, one, hundred, dut...  \n",
       "271357  [christine, wicker, lily, dale, the, true, sto...  \n",
       "271358  [plato, republic, worlds, classics, oxford, un...  \n",
       "271359  [christopher, biffle, guided, tour, of, rene, ...  \n",
       "\n",
       "[271357 rows x 3 columns]"
      ]
     },
     "execution_count": 266,
     "metadata": {},
     "output_type": "execute_result"
    }
   ],
   "source": [
    "books_clean"
   ]
  },
  {
   "cell_type": "code",
   "execution_count": 267,
   "id": "ae861a52",
   "metadata": {},
   "outputs": [],
   "source": [
    "from sklearn.feature_extraction.text import TfidfVectorizer\n",
    "tf = TfidfVectorizer(analyzer='word',ngram_range=(1, 2),min_df=0, stop_words='english')\n",
    "tfidf_matrix = tf.fit_transform(books_clean['Combined'])"
   ]
  },
  {
   "cell_type": "code",
   "execution_count": 268,
   "id": "70be1845",
   "metadata": {},
   "outputs": [
    {
     "data": {
      "text/plain": [
       "(271357, 1098399)"
      ]
     },
     "execution_count": 268,
     "metadata": {},
     "output_type": "execute_result"
    }
   ],
   "source": [
    "tfidf_matrix.shape"
   ]
  },
  {
   "cell_type": "code",
   "execution_count": null,
   "id": "a05b53a3",
   "metadata": {},
   "outputs": [],
   "source": []
  }
 ],
 "metadata": {
  "kernelspec": {
   "display_name": "Python 3 (ipykernel)",
   "language": "python",
   "name": "python3"
  },
  "language_info": {
   "codemirror_mode": {
    "name": "ipython",
    "version": 3
   },
   "file_extension": ".py",
   "mimetype": "text/x-python",
   "name": "python",
   "nbconvert_exporter": "python",
   "pygments_lexer": "ipython3",
   "version": "3.9.5"
  }
 },
 "nbformat": 4,
 "nbformat_minor": 5
}
